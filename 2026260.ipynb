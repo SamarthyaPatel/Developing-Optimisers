{
 "cells": [
  {
   "cell_type": "markdown",
   "id": "60ee1529",
   "metadata": {},
   "source": [
    "# 2026260"
   ]
  },
  {
   "cell_type": "code",
   "execution_count": 1,
   "id": "cd32cb4e",
   "metadata": {},
   "outputs": [],
   "source": [
    "import numpy as np;\n",
    "import math;\n",
    "import random;\n",
    "import matplotlib.pyplot as plot;"
   ]
  },
  {
   "cell_type": "markdown",
   "id": "02cfd803",
   "metadata": {},
   "source": [
    "## Task 1 - Function Implementation "
   ]
  },
  {
   "cell_type": "code",
   "execution_count": 2,
   "id": "b9190d10",
   "metadata": {},
   "outputs": [],
   "source": [
    "# Function Counters\n",
    "\n",
    "oF = 0;\n",
    "sS = 0;\n",
    "yS = 0;\n",
    "bB = 0;\n",
    "bL = 0;"
   ]
  },
  {
   "cell_type": "code",
   "execution_count": 3,
   "id": "0742abe8",
   "metadata": {},
   "outputs": [],
   "source": [
    "def objectiveFunction(x):\n",
    "    \n",
    "    global oF;\n",
    "    oF += 1;\n",
    "    \n",
    "    x1 = x[0];\n",
    "    x2 = x[1];\n",
    "    x3 = x[2];\n",
    "    x4 = x[3];\n",
    "    \n",
    "    return (1.10471 * (x1 ** 2) * x2) + (0.04811 * x3 * x4 * (14.0 + x2));"
   ]
  },
  {
   "cell_type": "code",
   "execution_count": 4,
   "id": "cd2785d4",
   "metadata": {},
   "outputs": [],
   "source": [
    "def shearStress(x):\n",
    "    \n",
    "    global sS;\n",
    "    sS += 1;\n",
    "    \n",
    "    x1 = x[0];\n",
    "    x2 = x[1];\n",
    "    x3 = x[2];\n",
    "    x4 = x[3];\n",
    "    \n",
    "    fdTau = 6000 / (math.sqrt(2) * x1 * x2);\n",
    "    \n",
    "    sdTauDenominator = 2 * (0.707 * x1 * x2 * (((x2 ** 2) / 12) + (0.25 * ((x1 + x3) ** 2))));\n",
    "    \n",
    "    sdTau = (6000 * (14 + 0.5 * x2) * (math.sqrt(0.25 * ((x2 ** 2) + ((x1 + x3) ** 2))))) / (sdTauDenominator);\n",
    "    \n",
    "    tau = math.sqrt(((fdTau ** 2) + (sdTau ** 2)) + ((x2 * fdTau * sdTau) / (math.sqrt(0.25 * ((x2 ** 2) + ((x1 + x3) ** 2))))));\n",
    "    \n",
    "    return 13600 - tau;"
   ]
  },
  {
   "cell_type": "code",
   "execution_count": 5,
   "id": "d74807de",
   "metadata": {},
   "outputs": [],
   "source": [
    "def isAllowableYieldStress(x):\n",
    "    \n",
    "    global yS;\n",
    "    yS += 1;\n",
    "    \n",
    "    x1 = x[0];\n",
    "    x2 = x[1];\n",
    "    x3 = x[2];\n",
    "    x4 = x[3];\n",
    "    \n",
    "    sigma = 504000 / ((x3 ** 2) * x4);\n",
    "    \n",
    "    return 30000 - sigma;"
   ]
  },
  {
   "cell_type": "code",
   "execution_count": 6,
   "id": "0459a65e",
   "metadata": {},
   "outputs": [],
   "source": [
    "def isBiggerBeamBreadth(x):\n",
    "    \n",
    "    global bB;\n",
    "    bB += 1;\n",
    "    \n",
    "    x1 = x[0];\n",
    "    x2 = x[1];\n",
    "    x3 = x[2];\n",
    "    x4 = x[3];\n",
    "    \n",
    "    return x4 - x1;"
   ]
  },
  {
   "cell_type": "code",
   "execution_count": 7,
   "id": "f545d804",
   "metadata": {},
   "outputs": [],
   "source": [
    "def isAllowableBucklingLoad(x):\n",
    "    \n",
    "    global bL;\n",
    "    bL += 1;\n",
    "    \n",
    "    x1 = x[0];\n",
    "    x2 = x[1];\n",
    "    x3 = x[2];\n",
    "    x4 = x[3];\n",
    "    \n",
    "    Pc = 64746.022 * (1 - 0.0282346 * x3) * x3 * (x4 ** 3);\n",
    "    \n",
    "    return Pc - 6000;"
   ]
  },
  {
   "cell_type": "markdown",
   "id": "77f012c5",
   "metadata": {},
   "source": [
    "### Function Testing"
   ]
  },
  {
   "cell_type": "code",
   "execution_count": 8,
   "id": "46120403",
   "metadata": {},
   "outputs": [
    {
     "name": "stdout",
     "output_type": "stream",
     "text": [
      "Objective function output:  32.6024179859\n",
      "First constraint function output:  5308.848564674312\n",
      "Second constraint function output:  26736.764990548952\n",
      "Third constraint function output:  6.82\n",
      "Fourth constraint function output:  122317448.61430933\n"
     ]
    }
   ],
   "source": [
    "x = np.array([1.05, 3.15, 4.43, 7.87]);\n",
    "\n",
    "print(\"Objective function output: \", objectiveFunction(x));\n",
    "print(\"First constraint function output: \", shearStress(x));\n",
    "print(\"Second constraint function output: \", isAllowableYieldStress(x));\n",
    "print(\"Third constraint function output: \", isBiggerBeamBreadth(x));\n",
    "print(\"Fourth constraint function output: \", isAllowableBucklingLoad(x));"
   ]
  },
  {
   "cell_type": "markdown",
   "id": "53ea3321",
   "metadata": {},
   "source": [
    "### Function Counter Printing"
   ]
  },
  {
   "cell_type": "code",
   "execution_count": 17,
   "id": "7c603d70",
   "metadata": {},
   "outputs": [
    {
     "name": "stdout",
     "output_type": "stream",
     "text": [
      "Objective function is called:  326937\n",
      "First constraint function is called:  440001\n",
      "Second constraint function is called:  327625\n",
      "Third constraint function is called:  284081\n",
      "Fourth constraint function is called:  186325\n"
     ]
    }
   ],
   "source": [
    "print(\"Objective function is called: \", oF);\n",
    "print(\"First constraint function is called: \", sS);\n",
    "print(\"Second constraint function is called: \", yS);\n",
    "print(\"Third constraint function is called: \", bB);\n",
    "print(\"Fourth constraint function is called: \", bL);"
   ]
  },
  {
   "cell_type": "markdown",
   "id": "ff54214c",
   "metadata": {},
   "source": [
    "### Boolean function for Constraint checking"
   ]
  },
  {
   "cell_type": "code",
   "execution_count": 10,
   "id": "10b3728b",
   "metadata": {},
   "outputs": [],
   "source": [
    "def checkConstraints(x):\n",
    "    if (shearStress(x) >= 0) and (isAllowableYieldStress(x) >= 0) and (isBiggerBeamBreadth(x) >= 0) and (isAllowableBucklingLoad(x) >= 0):\n",
    "        return True;\n",
    "    else:\n",
    "        return False;"
   ]
  },
  {
   "cell_type": "markdown",
   "id": "a8b0b664",
   "metadata": {},
   "source": [
    "## Task 2 - Random Search"
   ]
  },
  {
   "cell_type": "code",
   "execution_count": 11,
   "id": "e299ff7c",
   "metadata": {},
   "outputs": [],
   "source": [
    "def random_search(function, max_iter, lower_bound, upper_bound):\n",
    "    points_to_evaluate = np.random.uniform(low=lower_bound,high=upper_bound, size=(max_iter, len(lower_bound)));\n",
    "    \n",
    "    result = [];\n",
    "    \n",
    "    for point in points_to_evaluate:\n",
    "        if(checkConstraints(point) == True):\n",
    "            result.append(function(point));\n",
    "        else:\n",
    "            result.append(float('inf'));\n",
    "            \n",
    "    results = np.asarray(result);\n",
    "    \n",
    "    best_ind = np.argmin(results);\n",
    "    \n",
    "    return points_to_evaluate[best_ind], results[best_ind];"
   ]
  },
  {
   "cell_type": "code",
   "execution_count": 12,
   "id": "309b86b2",
   "metadata": {},
   "outputs": [
    {
     "name": "stdout",
     "output_type": "stream",
     "text": [
      "The best solution is:[0.36307782 4.23592514 7.43054969 0.42966084] => 3.42\n"
     ]
    },
    {
     "data": {
      "image/png": "[encoded data removed]",
      "text/plain": [
       "<Figure size 432x288 with 1 Axes>"
      ]
     },
     "metadata": {
      "needs_background": "light"
     },
     "output_type": "display_data"
    }
   ],
   "source": [
    "# Running Random Search\n",
    "number_of_samples = 10000;\n",
    "lower_bound = np.array([0.125, 0.125 , 0.1, 0.1]);\n",
    "upper_bound = np.array([5, 5, 10,10]);\n",
    "\n",
    "result_random_search = random_search(objectiveFunction, number_of_samples, lower_bound, upper_bound);\n",
    "\n",
    "print(\"The best solution is:{} => {:.2f}\".format(result_random_search[0], result_random_search[1]));\n",
    "\n",
    "# Boxplot for Random Search\n",
    "result_RS = [random_search(objectiveFunction, number_of_samples, lower_bound, upper_bound)[-1]\n",
    "                               for i in range(21)];\n",
    "plot.boxplot([result_RS]);\n",
    "plot.xticks([1], ['Random Search']);\n",
    "plot.ylabel(\"Best Objective Value\");"
   ]
  },
  {
   "cell_type": "markdown",
   "id": "194eb1b1",
   "metadata": {},
   "source": [
    "## Task 3 - Simulated Annealing"
   ]
  },
  {
   "cell_type": "code",
   "execution_count": 13,
   "id": "3d9295a7",
   "metadata": {},
   "outputs": [],
   "source": [
    "def simulated_annealing(function, max_iter, lower_bound, upper_bound, temp):\n",
    "\n",
    "    xbest = np.array(np.random.uniform(low=lower_bound, high=upper_bound, size=(4)));\n",
    "    \n",
    "    if(checkConstraints(xbest) == True):\n",
    "        ybest = function(xbest);\n",
    "    else:\n",
    "        ybest = function(xbest) + 10 * np.max([0, np.max(xbest)]);\n",
    "    \n",
    "    xc = xbest;\n",
    "    yc = ybest;\n",
    "    \n",
    "    for i in range(1, max_iter):\n",
    "        \n",
    "        xa = xc + 0.1 * np.random.normal(lower_bound, upper_bound);\n",
    "        \n",
    "        if(checkConstraints(xa) == True):\n",
    "            ya = function(xa);\n",
    "        else:\n",
    "            ya = function(xa) + 10 * np.max([0, np.max(xa)]);\n",
    "            \n",
    "        delta_Y = ya - yc;\n",
    "        \n",
    "        t = temp / float(i);\n",
    "        \n",
    "        eq = np.exp(-delta_Y / t);\n",
    "        \n",
    "        if (delta_Y <= 0) or (random.uniform(0,1) < min(eq, 1)):\n",
    "            xc = xa;\n",
    "            yc = ya;\n",
    "            \n",
    "        if ya < ybest:\n",
    "            xbest = xa;\n",
    "            ybest = ya;\n",
    "            \n",
    "    return xbest, ybest;"
   ]
  },
  {
   "cell_type": "code",
   "execution_count": 14,
   "id": "1519b1ba",
   "metadata": {},
   "outputs": [
    {
     "name": "stdout",
     "output_type": "stream",
     "text": [
      "The best solution is:[-0.27770216  6.33097257  7.94477352  0.27767802] => 2.70\n"
     ]
    },
    {
     "name": "stderr",
     "output_type": "stream",
     "text": [
      "C:\\Users\\SAMARTHYA\\AppData\\Local\\Temp\\ipykernel_7108\\3599070979.py:26: RuntimeWarning: overflow encountered in exp\n",
      "  eq = np.exp(-delta_Y / t);\n"
     ]
    },
    {
     "data": {
      "image/png": "[encoded data removed]",
      "text/plain": [
       "<Figure size 432x288 with 1 Axes>"
      ]
     },
     "metadata": {
      "needs_background": "light"
     },
     "output_type": "display_data"
    }
   ],
   "source": [
    "# Running Simulated Annealing\n",
    "number_of_samples = 10000;\n",
    "lower_bound = np.array([0.125, 0.125 , 0.1, 0.1]);\n",
    "upper_bound = np.array([5, 5, 10, 10]);\n",
    "temp = 100;\n",
    "\n",
    "res_simulated_annealing = simulated_annealing(objectiveFunction, number_of_samples, lower_bound, upper_bound, temp)\n",
    "\n",
    "print(\"The best solution is:{} => {:.2f}\".format(res_simulated_annealing[0], res_simulated_annealing[1]));\n",
    "\n",
    "# Boxplot for Simulated Annealing\n",
    "result_SA = [simulated_annealing(objectiveFunction, number_of_samples, lower_bound, upper_bound, temp)[1]\n",
    "            for i in range(21)]\n",
    "\n",
    "plot.boxplot([result_SA]);\n",
    "plot.xticks([1], ['Simulated Annealing']);\n",
    "plot.ylabel(\"Best Objective Value\");"
   ]
  },
  {
   "cell_type": "markdown",
   "id": "5fc413eb",
   "metadata": {},
   "source": [
    "## Task 4 - 21 Repetitions and Comparision"
   ]
  },
  {
   "cell_type": "code",
   "execution_count": 15,
   "id": "75e0f47f",
   "metadata": {},
   "outputs": [
    {
     "name": "stdout",
     "output_type": "stream",
     "text": [
      "Random Search Results: [4.255236783890433, 5.116224172569827, 4.382150739031901, 4.553818696615684, 5.463473415433463, 4.149205691746924, 5.611960797069141, 4.048768102948157, 4.545676065048058, 4.469035734836243, 5.7570556970917055, 5.366568179766627, 5.148855462209073, 4.727531230194835, 5.552305662283425, 5.72811125811172, 3.6060041659346362, 5.256482107434375, 3.331881973816257, 4.687706403725084, 4.343763932121906]\n",
      "\n",
      "Simulated Annealing Results: [2.518629775018519, -2861472081.2763066, 2.4392817125256436, 2.5410473175665285, -3297969767.806104, 2.8409048092205835, 2.6881555591839086, -3274371520.0801744, 2.669057868645947, 2.510785659373443, 2.4723328998627023, 2.5559587551951837, 2.89714569816239, -3418919902.764162, 2.4309953312037953, -321559556.4689823, -3121422400.9076777, 2.5677994234796144, 2.6874228826640416, 2.5863309871377176, 2.431229449886404]\n",
      "\n"
     ]
    }
   ],
   "source": [
    "print(f'Random Search Results: {result_RS}\\n')\n",
    "print(f'Simulated Annealing Results: {result_SA}\\n')"
   ]
  },
  {
   "cell_type": "code",
   "execution_count": 16,
   "id": "f4345beb",
   "metadata": {},
   "outputs": [
    {
     "data": {
      "text/plain": [
       "Text(0, 0.5, 'Best Objective Value')"
      ]
     },
     "execution_count": 16,
     "metadata": {},
     "output_type": "execute_result"
    },
    {
     "data": {
      "image/png": "[encoded data removed]",
      "text/plain": [
       "<Figure size 432x288 with 1 Axes>"
      ]
     },
     "metadata": {
      "needs_background": "light"
     },
     "output_type": "display_data"
    }
   ],
   "source": [
    "plot.boxplot([result_RS, result_SA])\n",
    "plot.xticks([1,2], ['Random Search', 'Simulated Annealing'])\n",
    "plot.ylabel(\"Best Objective Value\")"
   ]
  }
 ],
 "metadata": {
  "kernelspec": {
   "display_name": "Python 3 (ipykernel)",
   "language": "python",
   "name": "python3"
  },
  "language_info": {
   "codemirror_mode": {
    "name": "ipython",
    "version": 3
   },
   "file_extension": ".py",
   "mimetype": "text/x-python",
   "name": "python",
   "nbconvert_exporter": "python",
   "pygments_lexer": "ipython3",
   "version": "3.9.12"
  }
 },
 "nbformat": 4,
 "nbformat_minor": 5
}
